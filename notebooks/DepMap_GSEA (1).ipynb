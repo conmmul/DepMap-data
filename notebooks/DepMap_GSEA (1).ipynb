{
 "cells": [
  {
   "cell_type": "code",
   "execution_count": 330,
   "id": "35eb7184-fbdf-4962-96e9-8411d4ed3de0",
   "metadata": {},
   "outputs": [],
   "source": [
    "import pandas as pd\n",
    "import numpy as np\n",
    "import matplotlib.pyplot as plt\n",
    "import scipy.stats\n",
    "import seaborn as sns\n",
    "from adjustText import adjust_text\n",
    "from statsmodels.stats.multitest import fdrcorrection, multipletests\n",
    "import matplotlib.colors as mcolors\n",
    "from gseapy import barplot, dotplot\n",
    "import gseapy as gp"
   ]
  },
  {
   "cell_type": "code",
   "execution_count": 331,
   "id": "e75222eb-ee1b-4c51-859f-20cd91898cfb",
   "metadata": {},
   "outputs": [],
   "source": [
    "model = '/Users/connormullins/Excel sheets/Model.csv'\n",
    "osm = '/Users/connormullins/Excel sheets/OmicsSomaticMutations.csv'\n",
    "effect = '/Users/connormullins/Excel sheets/CRISPRGeneEffect.csv'"
   ]
  },
  {
   "cell_type": "code",
   "execution_count": null,
   "id": "aeb2230a-b066-44a1-8d13-0d8f0494ed38",
   "metadata": {},
   "outputs": [],
   "source": [
    "model_df = pd.read_csv(model, header=0, index_col=0)\n",
    "osm_df = pd.read_csv(osm, header=0, low_memory=False)\n",
    "effect_df = pd.read_csv(effect, header=0, index_col=0)"
   ]
  },
  {
   "cell_type": "code",
   "execution_count": null,
   "id": "c5899d1b-d668-4966-9d94-4b7b85e8cb4b",
   "metadata": {},
   "outputs": [],
   "source": [
    "cancer_type = \"Non-Small Cell Lung Cancer\"\n",
    "protein = \"KRAS\"\n",
    "gene_change = \"p.G12V\""
   ]
  },
  {
   "cell_type": "code",
   "execution_count": null,
   "id": "f104dafb-917b-4a4e-9df2-c1028dc53650",
   "metadata": {},
   "outputs": [],
   "source": [
    "#filter to get only mutated genes\n",
    "cancer_filter = model_df[model_df['OncotreePrimaryDisease'] == cancer_type]\n",
    "osm_filter_pie = cancer_filter.merge(osm_df, on=['ModelID'], how='inner')\n",
    "protein_filter = osm_filter_pie[(osm_filter_pie['HugoSymbol'] == protein)]\n",
    "protein_change_filter = protein_filter[(protein_filter['ProteinChange']== gene_change)]\n",
    "osm_filter_pie.set_index('ModelID')\n",
    "protein_change_filter = protein_change_filter.filter(['ModelID'])"
   ]
  },
  {
   "cell_type": "code",
   "execution_count": null,
   "id": "485ad51a-7c27-4480-bcff-51a081bdd34a",
   "metadata": {},
   "outputs": [],
   "source": [
    "#retrieve wt cell lines-- have cancer but not gene mutation specified\n",
    "# concat ModelIDs of protein_filter and osm_df-- drop duplicates of osm_df and keep first, then drop duplicates with protein_filter\n",
    "osm_df1 = osm_df.filter(['ModelID'])\n",
    "osm_df2 = osm_df1.drop_duplicates(keep = 'first')\n",
    "protein_filter = protein_filter.filter(['ModelID'])\n",
    "wt_and_mutant = pd.concat([protein_filter, osm_df2])\n",
    "wt_gene = wt_and_mutant.drop_duplicates(keep = False)"
   ]
  },
  {
   "cell_type": "code",
   "execution_count": null,
   "id": "a58eedce-0d06-43e5-9594-ac7fc9959344",
   "metadata": {},
   "outputs": [],
   "source": [
    "effect_mutant = protein_change_filter.merge(effect_df, on = ['ModelID'], how = 'inner')\n",
    "effect_mutant = effect_mutant.set_index('ModelID')\n",
    "\n",
    "effect_wt = wt_gene.merge(effect_df, on = ['ModelID'], how = 'inner')\n",
    "effect_wt = effect_wt.set_index('ModelID')"
   ]
  },
  {
   "cell_type": "code",
   "execution_count": null,
   "id": "febde160-2dbf-447a-a8e7-06f5a370c034",
   "metadata": {},
   "outputs": [],
   "source": [
    "_, p_value = scipy.stats.ttest_ind(effect_mutant, effect_wt)"
   ]
  },
  {
   "cell_type": "code",
   "execution_count": null,
   "id": "45abd8be-9c4a-4aa1-a4d7-158c28999efa",
   "metadata": {},
   "outputs": [],
   "source": [
    "pvalue_df = pd.DataFrame(p_value)\n",
    "pvalue_df = pvalue_df.set_index(effect_df.columns)\n",
    "pvalue_df = pvalue_df.rename(columns = {0 : 'p-value'})\n",
    "#use mean gene effect to rank\n",
    "pvalue_df['mean gene effect'] = effect_mutant.mean(axis = 0)"
   ]
  },
  {
   "cell_type": "code",
   "execution_count": null,
   "id": "868aadfe-ff5e-440d-8b12-1389fd860a5f",
   "metadata": {},
   "outputs": [],
   "source": [
    "sig_pv = pvalue_df[pvalue_df['p-value'] < 0.05]\n",
    "sig_pv = sig_pv.reset_index()\n",
    "sig_pv = sig_pv.sort_values('mean gene effect', ascending=False)\n",
    "sig_pv['gene name'] = sig_pv['index'].apply(lambda x: x.split(' ')[0])\n",
    "# sig_pv['gene name'] = sig_pv['index'].str.extract(r'\\((\\d+)\\)')  #if using gene id \n"
   ]
  },
  {
   "cell_type": "code",
   "execution_count": null,
   "id": "54d30624-c905-45ff-850f-34ffe10213e4",
   "metadata": {},
   "outputs": [],
   "source": [
    "rnk = pd.DataFrame()\n",
    "rnk['gene'] = sig_pv['gene name']\n",
    "rnk['gene'] = rnk['gene'].str.upper()\n",
    "#rnk['score'] = sig_pv['mean gene effect']\n",
    "\n",
    "wt_stuff = pd.DataFrame()\n",
    "wt_stuff['scores'] = effect_wt.mean(axis = 0, skipna=True, numeric_only=True)\n",
    "wt_stuff = wt_stuff.set_index(effect_df.columns)\n",
    "wt_stuff = wt_stuff.reset_index()\n",
    "wt_stuff = wt_stuff.sort_values('scores', ascending = False)\n",
    "\n",
    "wt_stuff['index'] = wt_stuff['index'].apply(lambda x: x.split(' ')[0])\n",
    "wt_rnk = pd.DataFrame()\n",
    "wt_rnk['gene'] = wt_stuff['index']\n"
   ]
  },
  {
   "cell_type": "code",
   "execution_count": null,
   "id": "12102f8b-1907-4f95-936c-52fe7b3ed84a",
   "metadata": {},
   "outputs": [],
   "source": [
    "gmt = gp.read_gmt(path = '/Users/connormullins/Downloads/c2.cp.pid.v2024.1.Hs.symbols.gmt')"
   ]
  },
  {
   "cell_type": "code",
   "execution_count": null,
   "id": "1662cea1-81dc-49e4-af5f-b3023625fb64",
   "metadata": {},
   "outputs": [],
   "source": [
    "enrichr = gp.enrichr(gene_list=rnk,\n",
    "                 gene_sets=gmt,\n",
    "                 outdir=None,\n",
    "                )"
   ]
  },
  {
   "cell_type": "code",
   "execution_count": null,
   "id": "5ff99c3c-663f-4ace-b45d-20aa6e9eb646",
   "metadata": {},
   "outputs": [],
   "source": [
    "enr_res = enrichr.results.sort_values('Combined Score', ascending = False)"
   ]
  },
  {
   "cell_type": "code",
   "execution_count": null,
   "id": "c3ab477f-ab59-4edf-97b1-b0d618725a57",
   "metadata": {},
   "outputs": [],
   "source": [
    "gsea_mut = pd.DataFrame(enr_res)"
   ]
  },
  {
   "cell_type": "code",
   "execution_count": null,
   "id": "c0349778-2fd6-4788-8f1b-3b9aa5d091c8",
   "metadata": {},
   "outputs": [],
   "source": [
    "mut_pathways_and_scores = pd.DataFrame()\n",
    "\n",
    "for term in gsea_mut:\n",
    "    mut_pathways_and_scores['pathway'] = gsea_mut['Term']\n",
    "    mut_pathways_and_scores['MUT Score'] = gsea_mut['Combined Score']"
   ]
  },
  {
   "cell_type": "code",
   "execution_count": null,
   "id": "db85205c-144b-4548-adc1-ca3078974ccd",
   "metadata": {},
   "outputs": [],
   "source": [
    "enrichr_wt = gp.enrichr(gene_list=wt_rnk,\n",
    "                 gene_sets=gmt,\n",
    "                 outdir=None,\n",
    "                )"
   ]
  },
  {
   "cell_type": "code",
   "execution_count": null,
   "id": "91c16fcf-2ca7-4818-98a9-c22bf286478f",
   "metadata": {},
   "outputs": [],
   "source": [
    "gsea_wt = enrichr_wt.results.sort_values('Combined Score', ascending = False)"
   ]
  },
  {
   "cell_type": "code",
   "execution_count": null,
   "id": "ad26a68f-a1e7-45b8-8d20-e31ffb0b65db",
   "metadata": {},
   "outputs": [],
   "source": [
    "wt_pathways_and_scores = pd.DataFrame()\n",
    "\n",
    "for term in gsea_wt:\n",
    "    wt_pathways_and_scores['pathway'] = gsea_wt['Term']\n",
    "    wt_pathways_and_scores['WT Score'] = gsea_wt['Combined Score']"
   ]
  },
  {
   "cell_type": "code",
   "execution_count": null,
   "id": "b1315083-9435-40f4-a2ef-801d6c3032bc",
   "metadata": {},
   "outputs": [],
   "source": [
    "enriched_shared = pd.DataFrame()\n",
    "enriched_shared = mut_pathways_and_scores.merge(wt_pathways_and_scores, how = 'inner', on = 'pathway')\n",
    "enriched_shared['fold change'] = enriched_shared['MUT Score'] / enriched_shared['WT Score']"
   ]
  },
  {
   "cell_type": "code",
   "execution_count": null,
   "id": "ace607b0-1af9-4d58-a73d-590533a4a1b3",
   "metadata": {},
   "outputs": [],
   "source": [
    "enriched_shared = enriched_shared[enriched_shared['MUT Score'] > 1]\n",
    "enriched_shared = enriched_shared.sort_values('fold change', ascending=False).head(4)\n",
    "enriched_shared"
   ]
  },
  {
   "cell_type": "code",
   "execution_count": null,
   "id": "6585b7ff-3668-4405-92c5-d574e4dda0f8",
   "metadata": {},
   "outputs": [],
   "source": [
    "plt.figure(figsize=(8, 8))\n",
    "plt.pie(enriched_shared['fold change'], labels=enriched_shared['pathway'], autopct='%1.1f%%', startangle=90)\n",
    "plt.show()"
   ]
  },
  {
   "cell_type": "code",
   "execution_count": null,
   "id": "d50018f9-7085-43ef-aa25-98ece7c463a7",
   "metadata": {},
   "outputs": [],
   "source": []
  }
 ],
 "metadata": {
  "kernelspec": {
   "display_name": "Python 3.12 (tensorflow)",
   "language": "python",
   "name": "tensorflow"
  },
  "language_info": {
   "codemirror_mode": {
    "name": "ipython",
    "version": 3
   },
   "file_extension": ".py",
   "mimetype": "text/x-python",
   "name": "python",
   "nbconvert_exporter": "python",
   "pygments_lexer": "ipython3",
   "version": "3.10.14"
  }
 },
 "nbformat": 4,
 "nbformat_minor": 5
}
