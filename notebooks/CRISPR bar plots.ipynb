{
 "cells": [
  {
   "cell_type": "code",
   "execution_count": 307,
   "id": "d79f601a-c133-4579-b147-13be76f25551",
   "metadata": {},
   "outputs": [],
   "source": [
    "import pandas as pd\n",
    "import matplotlib.pyplot as plt\n",
    "import scipy.stats\n",
    "import numpy as np\n",
    "import gseapy as gp\n",
    "from statsmodels.stats.multitest import multipletests\n",
    "import seaborn as sns\n",
    "import warnings"
   ]
  },
  {
   "cell_type": "code",
   "execution_count": 308,
   "id": "be5c0ac5-014d-4ecb-9869-32de9ef5f011",
   "metadata": {},
   "outputs": [],
   "source": [
    "# ignore pd warnings \n",
    "warnings.simplefilter(action='ignore', category=FutureWarning)\n",
    "\n",
    "# load csv\n",
    "model = '/Users/connormullins/Excel sheets/Model.csv'\n",
    "osm = '/Users/connormullins/Excel sheets/OmicsSomaticMutations.csv'\n",
    "effect = '/Users/connormullins/Excel sheets/CRISPRGeneEffect.csv'\n",
    "\n",
    "# file path of gene set in gmt format\n",
    "kegg = gp.read_gmt(path = '/Users/connormullins/Downloads/c2.cp.kegg_medicus.v2024.1.Hs.symbols.gmt')\n",
    "pid = gp.read_gmt(path = '/Users/connormullins/Downloads/c2.cp.pid.v2024.1.Hs.symbols.gmt')\n",
    "biocarta = gp.read_gmt(path = '/Users/connormullins/Downloads/c2.cp.biocarta.v2024.1.Hs.symbols (1).gmt')"
   ]
  },
  {
   "cell_type": "code",
   "execution_count": 226,
   "id": "31f72846-0bc0-44d5-9a2a-42c8fc657af2",
   "metadata": {},
   "outputs": [],
   "source": [
    "# use this later\n",
    "def extract_middle(label):\n",
    "    parts = label.split('_')\n",
    "    if len(parts) == 4:\n",
    "        return f\"{parts[1]}_{parts[2]}\"\n",
    "    else:\n",
    "        return parts[1]"
   ]
  },
  {
   "cell_type": "code",
   "execution_count": 3,
   "id": "437d82a4-b4b3-4f41-9df9-ea28b12c05a0",
   "metadata": {},
   "outputs": [],
   "source": [
    "model_df = pd.read_csv(model, header=0, index_col=0)\n",
    "osm_df = pd.read_csv(osm, header=0, low_memory=False)\n",
    "effect_df = pd.read_csv(effect, header=0, index_col=0)"
   ]
  },
  {
   "cell_type": "code",
   "execution_count": 309,
   "id": "3aa418fb-c4e4-467a-9392-e97d61b0beda",
   "metadata": {},
   "outputs": [],
   "source": [
    "cancer_type = \"COAD\"\n",
    "protein = \"KRAS\"\n",
    "gene_change = ['p.G13D', 'p.G12V', 'p.G12D', 'p.A146T']"
   ]
  },
  {
   "cell_type": "code",
   "execution_count": 310,
   "id": "34b49c53-49c4-4088-bbb7-224c12aee4b0",
   "metadata": {},
   "outputs": [],
   "source": [
    "def rungsea(cancer, protein, mutation):\n",
    "\n",
    "    appended_results = []\n",
    "    \n",
    "    for mut in gene_change:\n",
    "        cancer_filter = model_df[model_df['OncotreeCode'] == cancer]\n",
    "        osm_filter_pie = cancer_filter.merge(osm_df, on=['ModelID'], how='inner')\n",
    "        protein_filter = osm_filter_pie[(osm_filter_pie['HugoSymbol'] == protein)]\n",
    "        protein_change_filter = protein_filter[(protein_filter['ProteinChange']== mut)]\n",
    "        protein_change_filter = protein_change_filter.filter(['ModelID'])\n",
    "\n",
    "        #retrieve wt cell lines-- models have same oncotree code but not gene mutation specified\n",
    "        cancer_filter = cancer_filter.reset_index()\n",
    "        cancer_filter = cancer_filter.filter(['ModelID'])\n",
    "        protein_filter = protein_filter.filter(['ModelID'])\n",
    "        wt_and_mutant = pd.concat([cancer_filter, protein_filter])\n",
    "        wt_gene = wt_and_mutant.drop_duplicates(keep = False)\n",
    "\n",
    "\n",
    "        # merging gene effect with WT and MUT groups\n",
    "        effect_mutant = protein_change_filter.merge(effect_df, on = ['ModelID'], how = 'inner')\n",
    "        effect_mutant = effect_mutant.set_index('ModelID')\n",
    "        effect_wt = wt_gene.merge(effect_df, on = ['ModelID'], how = 'inner')\n",
    "        effect_wt = effect_wt.set_index('ModelID')\n",
    "\n",
    "\n",
    "        # t test\n",
    "        _, p_value = scipy.stats.ttest_ind(effect_wt, effect_mutant)\n",
    "        pvalue_df = pd.DataFrame(p_value)\n",
    "        pvalue_df = pvalue_df.set_index(effect_df.columns)\n",
    "        pvalue_df = pvalue_df.rename(columns = {0 : 'p-value'})\n",
    "\n",
    "        # use only significant differentially expressed genes\n",
    "        sig_pv = pvalue_df[pvalue_df['p-value'] < 0.05]\n",
    "        sig_pv = sig_pv.reset_index()\n",
    "        sig_pv['gene name'] = sig_pv['index'].apply(lambda x: x.split(' ')[0])\n",
    "\n",
    "        rnk = pd.DataFrame()\n",
    "        rnk['scores'] = abs(effect_mutant.mean(axis = 0, skipna=True, numeric_only=True))\n",
    "        rnk = rnk.reset_index()\n",
    "        rnk = rnk.rename(columns = {'index' : 'gene'})\n",
    "        rnk = rnk.sort_values('scores', ascending = False)\n",
    "        rnk['gene'] = rnk['gene'].apply(lambda x: x.split(' ')[0])\n",
    "        rnk = rnk.dropna()\n",
    "\n",
    "        enr = gp.prerank(rnk = rnk,\n",
    "                         gene_sets = pid,\n",
    "                         max_size = 10000,\n",
    "                         seed = 6, permutation_num = 1000)\n",
    "        res = enr.res2d.sort_values('NES', ascending = False)\n",
    "\n",
    "        filtered_res = res[res['FDR q-val'] < 0.25]\n",
    "        filtered_res['shortened'] = filtered_res['Term'].apply(extract_middle)\n",
    "\n",
    "        filtered_res['mutation'] = mut\n",
    "        appended_results.append(filtered_res)\n",
    "\n",
    "    final_results = pd.concat(appended_results, ignore_index=True)\n",
    "    pd.DataFrame(final_results)\n",
    "\n",
    "    return final_results\n"
   ]
  },
  {
   "cell_type": "code",
   "execution_count": 311,
   "id": "e4f83527-683b-446a-bd30-86e8d490fb6c",
   "metadata": {},
   "outputs": [
    {
     "name": "stderr",
     "output_type": "stream",
     "text": [
      "/var/folders/k9/bz30f50d0bv1pzq8kv4wkg4h0000gn/T/ipykernel_30921/2697024392.py:53: SettingWithCopyWarning: \n",
      "A value is trying to be set on a copy of a slice from a DataFrame.\n",
      "Try using .loc[row_indexer,col_indexer] = value instead\n",
      "\n",
      "See the caveats in the documentation: https://pandas.pydata.org/pandas-docs/stable/user_guide/indexing.html#returning-a-view-versus-a-copy\n",
      "  filtered_res['shortened'] = filtered_res['Term'].apply(extract_middle)\n",
      "/var/folders/k9/bz30f50d0bv1pzq8kv4wkg4h0000gn/T/ipykernel_30921/2697024392.py:55: SettingWithCopyWarning: \n",
      "A value is trying to be set on a copy of a slice from a DataFrame.\n",
      "Try using .loc[row_indexer,col_indexer] = value instead\n",
      "\n",
      "See the caveats in the documentation: https://pandas.pydata.org/pandas-docs/stable/user_guide/indexing.html#returning-a-view-versus-a-copy\n",
      "  filtered_res['mutation'] = mut\n",
      "/var/folders/k9/bz30f50d0bv1pzq8kv4wkg4h0000gn/T/ipykernel_30921/2697024392.py:53: SettingWithCopyWarning: \n",
      "A value is trying to be set on a copy of a slice from a DataFrame.\n",
      "Try using .loc[row_indexer,col_indexer] = value instead\n",
      "\n",
      "See the caveats in the documentation: https://pandas.pydata.org/pandas-docs/stable/user_guide/indexing.html#returning-a-view-versus-a-copy\n",
      "  filtered_res['shortened'] = filtered_res['Term'].apply(extract_middle)\n",
      "/var/folders/k9/bz30f50d0bv1pzq8kv4wkg4h0000gn/T/ipykernel_30921/2697024392.py:55: SettingWithCopyWarning: \n",
      "A value is trying to be set on a copy of a slice from a DataFrame.\n",
      "Try using .loc[row_indexer,col_indexer] = value instead\n",
      "\n",
      "See the caveats in the documentation: https://pandas.pydata.org/pandas-docs/stable/user_guide/indexing.html#returning-a-view-versus-a-copy\n",
      "  filtered_res['mutation'] = mut\n",
      "/var/folders/k9/bz30f50d0bv1pzq8kv4wkg4h0000gn/T/ipykernel_30921/2697024392.py:53: SettingWithCopyWarning: \n",
      "A value is trying to be set on a copy of a slice from a DataFrame.\n",
      "Try using .loc[row_indexer,col_indexer] = value instead\n",
      "\n",
      "See the caveats in the documentation: https://pandas.pydata.org/pandas-docs/stable/user_guide/indexing.html#returning-a-view-versus-a-copy\n",
      "  filtered_res['shortened'] = filtered_res['Term'].apply(extract_middle)\n",
      "/var/folders/k9/bz30f50d0bv1pzq8kv4wkg4h0000gn/T/ipykernel_30921/2697024392.py:55: SettingWithCopyWarning: \n",
      "A value is trying to be set on a copy of a slice from a DataFrame.\n",
      "Try using .loc[row_indexer,col_indexer] = value instead\n",
      "\n",
      "See the caveats in the documentation: https://pandas.pydata.org/pandas-docs/stable/user_guide/indexing.html#returning-a-view-versus-a-copy\n",
      "  filtered_res['mutation'] = mut\n",
      "/var/folders/k9/bz30f50d0bv1pzq8kv4wkg4h0000gn/T/ipykernel_30921/2697024392.py:53: SettingWithCopyWarning: \n",
      "A value is trying to be set on a copy of a slice from a DataFrame.\n",
      "Try using .loc[row_indexer,col_indexer] = value instead\n",
      "\n",
      "See the caveats in the documentation: https://pandas.pydata.org/pandas-docs/stable/user_guide/indexing.html#returning-a-view-versus-a-copy\n",
      "  filtered_res['shortened'] = filtered_res['Term'].apply(extract_middle)\n",
      "/var/folders/k9/bz30f50d0bv1pzq8kv4wkg4h0000gn/T/ipykernel_30921/2697024392.py:55: SettingWithCopyWarning: \n",
      "A value is trying to be set on a copy of a slice from a DataFrame.\n",
      "Try using .loc[row_indexer,col_indexer] = value instead\n",
      "\n",
      "See the caveats in the documentation: https://pandas.pydata.org/pandas-docs/stable/user_guide/indexing.html#returning-a-view-versus-a-copy\n",
      "  filtered_res['mutation'] = mut\n"
     ]
    }
   ],
   "source": [
    "df = rungsea(cancer_type, protein, gene_change)"
   ]
  },
  {
   "cell_type": "code",
   "execution_count": 319,
   "id": "e7ac6d31-b8ac-43f7-bbfe-38e6dc78de3c",
   "metadata": {},
   "outputs": [
    {
     "data": {
      "image/png": "[encoded data removed]",
      "text/plain": [
       "<Figure size 1000x600 with 1 Axes>"
      ]
     },
     "metadata": {},
     "output_type": "display_data"
    }
   ],
   "source": [
    "merged_df = None\n",
    "\n",
    "dfs = {mutation: group for mutation, group in df.groupby('mutation')}\n",
    "for mutant, mutant_df in dfs.items():\n",
    "\n",
    "    mutant_df = mutant_df[['shortened', 'NES']].head(7)\n",
    "    mutant_df.columns = ['pathway', mutant]\n",
    "    \n",
    "    if merged_df is None:\n",
    "        merged_df = mutant_df\n",
    "    else:\n",
    "        merged_df = merged_df.merge(mutant_df, on='pathway', how='inner')  # Inner merge to keep shared values only\n",
    "\n",
    "if merged_df is not None:\n",
    "    merged_df.set_index('pathway', inplace=True)\n",
    "\n",
    "fig, ax = plt.subplots(figsize=(10, 6))\n",
    "x = np.arange(len(merged_df.index))  # Positions for the pathways\n",
    "width = 0.1  # Width of each bar\n",
    "\n",
    "# Create a bar for each mutation\n",
    "for i, mutation in enumerate(merged_df.columns):\n",
    "    ax.bar(x + i * width, merged_df[mutation], width, label=mutation)\n",
    "\n",
    "# Customizing the plot\n",
    "ax.set_xlabel('Pathway')\n",
    "ax.set_ylabel('NES Values')\n",
    "ax.set_title('Grouped Bar Plot of NES Values by Mutation')\n",
    "ax.set_xticks(x + width * (len(merged_df.columns) - 1) / 2)  # Center ticks under groups\n",
    "ax.set_xticklabels(merged_df.index, rotation=30, ha='right')\n",
    "ax.legend(title='Mutations', bbox_to_anchor=(1.05, 1), loc='upper left')\n",
    "\n",
    "# Optimize layout and show the plot\n",
    "plt.tight_layout()\n",
    "plt.show()"
   ]
  },
  {
   "cell_type": "code",
   "execution_count": null,
   "id": "1e6ac14c-4390-46ae-9421-12e03e397d23",
   "metadata": {},
   "outputs": [],
   "source": [
    " "
   ]
  }
 ],
 "metadata": {
  "kernelspec": {
   "display_name": "Python 3.12 (tensorflow)",
   "language": "python",
   "name": "tensorflow"
  },
  "language_info": {
   "codemirror_mode": {
    "name": "ipython",
    "version": 3
   },
   "file_extension": ".py",
   "mimetype": "text/x-python",
   "name": "python",
   "nbconvert_exporter": "python",
   "pygments_lexer": "ipython3",
   "version": "3.10.14"
  }
 },
 "nbformat": 4,
 "nbformat_minor": 5
}
