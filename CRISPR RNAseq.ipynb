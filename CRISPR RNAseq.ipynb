{
 "cells": [
  {
   "cell_type": "code",
   "execution_count": 342,
   "id": "b93c8fa9-6d74-41b7-b3e2-ef00d4521aa5",
   "metadata": {},
   "outputs": [],
   "source": [
    "import pandas as pd\n",
    "import numpy as np\n",
    "import scipy.stats\n",
    "import seaborn as sns\n",
    "import matplotlib.pyplot as plt\n",
    "import matplotlib.colors as mcolors\n",
    "from adjustText import adjust_text\n",
    "from pydeseq2.dds import DeseqDataSet\n",
    "from pydeseq2.ds import DeseqStats\n",
    "import gseapy as gp"
   ]
  },
  {
   "cell_type": "code",
   "execution_count": 58,
   "id": "1865a850-6641-4961-b045-681e16992788",
   "metadata": {},
   "outputs": [],
   "source": [
    "model = '/Users/connormullins/Excel sheets/Model.csv'\n",
    "osm = '/Users/connormullins/Excel sheets/OmicsSomaticMutations.csv'\n",
    "reads = '/Users/connormullins/Downloads/OmicsExpressionGenesExpectedCountProfile.csv'\n",
    "profile = '/Users/connormullins/Downloads/OmicsProfiles.csv'"
   ]
  },
  {
   "cell_type": "code",
   "execution_count": 59,
   "id": "9d2e8295-4681-476f-a3bc-2a20e2463d22",
   "metadata": {},
   "outputs": [],
   "source": [
    "model_df = pd.read_csv(model, header=0, index_col=0)\n",
    "osm_df = pd.read_csv(osm, header=0, low_memory=False)\n",
    "reads_df = pd.read_csv(reads, header=0, low_memory=False)\n",
    "profile_df = pd.read_csv(profile, header=0, low_memory=False)"
   ]
  },
  {
   "cell_type": "code",
   "execution_count": 395,
   "id": "cbc10e57-49f7-4b4b-a725-a41249cfbc80",
   "metadata": {},
   "outputs": [],
   "source": [
    "cancer_type = \"COAD\"\n",
    "protein = \"KRAS\"\n",
    "gene_change = \"p.A146T\""
   ]
  },
  {
   "cell_type": "code",
   "execution_count": 396,
   "id": "152d531a-c668-492c-b5fc-e6a7ea194c6d",
   "metadata": {},
   "outputs": [],
   "source": [
    "#filter to get only mutated genes\n",
    "cancer_filter = model_df[model_df['OncotreeCode'] == cancer_type]\n",
    "osm_filter_pie = cancer_filter.merge(osm_df, on=['ModelID'], how='inner')\n",
    "protein_filter = osm_filter_pie[(osm_filter_pie['HugoSymbol'] == protein)]\n",
    "protein_change_filter = protein_filter[(protein_filter['ProteinChange']== gene_change)]\n",
    "protein_change_filter = protein_change_filter.filter(['ModelID'])"
   ]
  },
  {
   "cell_type": "code",
   "execution_count": 397,
   "id": "5f23a575-56d4-4d18-ac90-48d72efab479",
   "metadata": {},
   "outputs": [],
   "source": [
    "#retrieve wt cell lines-- models have same oncotree code but not gene mutation specified\n",
    "cancer_filter = cancer_filter.reset_index()\n",
    "cancer_filter = cancer_filter.filter(['ModelID'])\n",
    "protein_filter = protein_filter.filter(['ModelID'])\n",
    "wt_and_mutant = pd.concat([cancer_filter, protein_filter])\n",
    "wt_gene = wt_and_mutant.drop_duplicates(keep = False)"
   ]
  },
  {
   "cell_type": "code",
   "execution_count": 398,
   "id": "76f2a0ce-1cd8-4d9e-818e-135e5e2141ad",
   "metadata": {},
   "outputs": [],
   "source": [
    "# convert modelID to ProfileID\n",
    "profileid = wt_gene.merge(profile_df, on=['ModelID'], how='inner')\n",
    "profileid = profileid['ProfileID']\n",
    "profileid = pd.DataFrame(profileid)"
   ]
  },
  {
   "cell_type": "code",
   "execution_count": 399,
   "id": "a9e6824f-1925-44f2-bd73-b5f2d20c6910",
   "metadata": {},
   "outputs": [],
   "source": [
    "# mut profile id\n",
    "mut_profile = protein_change_filter.merge(profile_df, on=['ModelID'], how='inner')\n",
    "mut_profile = mut_profile['ProfileID']\n",
    "mut_profile = pd.DataFrame(mut_profile)\n",
    "mut_reads = mut_profile.merge(reads_df, on=['ProfileID'], how='inner')\n",
    "mut_profile['genotype'] = 'MUT'"
   ]
  },
  {
   "cell_type": "code",
   "execution_count": 400,
   "id": "c9a8a493-913f-41f7-a467-709e54b726dd",
   "metadata": {},
   "outputs": [],
   "source": [
    "# prepare for deseq2\n",
    "wt_reads = profileid.merge(reads_df, on=['ProfileID'], how='inner')\n",
    "wt_reads.set_index('ProfileID')\n",
    "counts = pd.concat([wt_reads, mut_reads])\n",
    "counts = counts.fillna(0)\n",
    "#counts = counts.drop(['genotype'], axis = 1)\n",
    "counts = counts.set_index('ProfileID')\n",
    "counts = counts.astype(int)"
   ]
  },
  {
   "cell_type": "code",
   "execution_count": 401,
   "id": "b1fa2eb7-e40c-4956-92e8-04508e52661f",
   "metadata": {},
   "outputs": [],
   "source": [
    "profileid['genotype'] = 'WT'\n",
    "metadata = pd.concat([profileid, mut_profile])\n",
    "metadata = metadata.merge(counts, on=['ProfileID'], how='inner')\n",
    "metadata = metadata.iloc[:, :2]\n",
    "metadata = metadata.set_index('ProfileID')"
   ]
  },
  {
   "cell_type": "code",
   "execution_count": 402,
   "id": "df3c9b14-5f87-483a-8a18-f59ebfff4244",
   "metadata": {},
   "outputs": [],
   "source": [
    "dds = DeseqDataSet(counts = counts,\n",
    "            metadata = metadata,\n",
    "            design_factors = \"genotype\")"
   ]
  },
  {
   "cell_type": "code",
   "execution_count": 403,
   "id": "c3e81409-d2d6-4246-bef8-a61023e165bb",
   "metadata": {},
   "outputs": [
    {
     "name": "stderr",
     "output_type": "stream",
     "text": [
      "Fitting size factors...\n",
      "... done in 0.02 seconds.\n",
      "\n",
      "Fitting dispersions...\n",
      "... done in 4.12 seconds.\n",
      "\n",
      "Fitting dispersion trend curve...\n",
      "... done in 0.33 seconds.\n",
      "\n",
      "Fitting MAP dispersions...\n",
      "... done in 5.75 seconds.\n",
      "\n",
      "Fitting LFCs...\n",
      "... done in 3.00 seconds.\n",
      "\n",
      "Calculating cook's distance...\n",
      "... done in 0.05 seconds.\n",
      "\n",
      "Replacing 2311 outlier genes.\n",
      "\n",
      "Fitting dispersions...\n",
      "... done in 0.61 seconds.\n",
      "\n",
      "Fitting MAP dispersions...\n",
      "... done in 0.66 seconds.\n",
      "\n",
      "Fitting LFCs...\n",
      "... done in 0.49 seconds.\n",
      "\n"
     ]
    }
   ],
   "source": [
    "dds.deseq2()"
   ]
  },
  {
   "cell_type": "code",
   "execution_count": 404,
   "id": "86a3c0aa-2669-4c7f-ad8b-066b023ff4a3",
   "metadata": {},
   "outputs": [
    {
     "name": "stderr",
     "output_type": "stream",
     "text": [
      "Running Wald tests...\n"
     ]
    },
    {
     "name": "stdout",
     "output_type": "stream",
     "text": [
      "Log2 fold change & Wald test p-value: genotype MUT vs WT\n",
      "                               baseMean  log2FoldChange     lfcSE      stat  \\\n",
      "TSPAN6 (ENSG00000000003)    4582.561440       -0.645320  1.054272 -0.612100   \n",
      "TNMD (ENSG00000000005)        18.945043       -3.633205  2.631577 -1.380619   \n",
      "DPM1 (ENSG00000000419)      5283.016664       -0.504302  0.454517 -1.109535   \n",
      "SCYL3 (ENSG00000000457)      995.691129        0.381470  0.443836  0.859484   \n",
      "C1orf112 (ENSG00000000460)  1062.925984       -0.681883  0.392673 -1.736517   \n",
      "...                                 ...             ...       ...       ...   \n",
      "SLIT1 (ENSG00000187122)      121.202456        3.147363  1.245996  2.525981   \n",
      "LYPD6 (ENSG00000187123)      665.839431       -2.811492  1.276767 -2.202040   \n",
      "AKR1C1 (ENSG00000187134)     844.054171       -0.786269  1.265558 -0.621283   \n",
      "VSTM2B (ENSG00000187135)       0.448278       -1.128282  5.850018 -0.192868   \n",
      "FOXD3 (ENSG00000187140)        2.610609        2.734193  1.711356  1.597676   \n",
      "\n",
      "                              pvalue      padj  \n",
      "TSPAN6 (ENSG00000000003)    0.540472  0.998939  \n",
      "TNMD (ENSG00000000005)      0.167396  0.998939  \n",
      "DPM1 (ENSG00000000419)      0.267200  0.998939  \n",
      "SCYL3 (ENSG00000000457)     0.390073  0.998939  \n",
      "C1orf112 (ENSG00000000460)  0.082473  0.954629  \n",
      "...                              ...       ...  \n",
      "SLIT1 (ENSG00000187122)     0.011538  0.634927  \n",
      "LYPD6 (ENSG00000187123)     0.027662  0.783846  \n",
      "AKR1C1 (ENSG00000187134)    0.534414  0.998939  \n",
      "VSTM2B (ENSG00000187135)    0.847062  0.998939  \n",
      "FOXD3 (ENSG00000187140)     0.110115  0.981619  \n",
      "\n",
      "[16383 rows x 6 columns]\n"
     ]
    },
    {
     "name": "stderr",
     "output_type": "stream",
     "text": [
      "... done in 0.71 seconds.\n",
      "\n"
     ]
    }
   ],
   "source": [
    "stat_res = DeseqStats(dds, contrast = ('genotype','MUT','WT'))\n",
    "stat_res.summary()"
   ]
  },
  {
   "cell_type": "code",
   "execution_count": 405,
   "id": "b0fad35d-ee65-4013-a0fe-27850d43b6bd",
   "metadata": {},
   "outputs": [
    {
     "data": {
      "text/html": [
       "<div>\n",
       "<style scoped>\n",
       "    .dataframe tbody tr th:only-of-type {\n",
       "        vertical-align: middle;\n",
       "    }\n",
       "\n",
       "    .dataframe tbody tr th {\n",
       "        vertical-align: top;\n",
       "    }\n",
       "\n",
       "    .dataframe thead th {\n",
       "        text-align: right;\n",
       "    }\n",
       "</style>\n",
       "<table border=\"1\" class=\"dataframe\">\n",
       "  <thead>\n",
       "    <tr style=\"text-align: right;\">\n",
       "      <th></th>\n",
       "      <th>index</th>\n",
       "      <th>baseMean</th>\n",
       "      <th>log2FoldChange</th>\n",
       "      <th>lfcSE</th>\n",
       "      <th>stat</th>\n",
       "      <th>pvalue</th>\n",
       "      <th>padj</th>\n",
       "      <th>symbol</th>\n",
       "      <th>nlogFDR</th>\n",
       "    </tr>\n",
       "  </thead>\n",
       "  <tbody>\n",
       "    <tr>\n",
       "      <th>0</th>\n",
       "      <td>TSPAN6 (ENSG00000000003)</td>\n",
       "      <td>4582.561440</td>\n",
       "      <td>-0.645320</td>\n",
       "      <td>1.054272</td>\n",
       "      <td>-0.612100</td>\n",
       "      <td>0.540472</td>\n",
       "      <td>0.998939</td>\n",
       "      <td>TSPAN6</td>\n",
       "      <td>0.001062</td>\n",
       "    </tr>\n",
       "    <tr>\n",
       "      <th>1</th>\n",
       "      <td>TNMD (ENSG00000000005)</td>\n",
       "      <td>18.945043</td>\n",
       "      <td>-3.633205</td>\n",
       "      <td>2.631577</td>\n",
       "      <td>-1.380619</td>\n",
       "      <td>0.167396</td>\n",
       "      <td>0.998939</td>\n",
       "      <td>TNMD</td>\n",
       "      <td>0.001062</td>\n",
       "    </tr>\n",
       "    <tr>\n",
       "      <th>2</th>\n",
       "      <td>DPM1 (ENSG00000000419)</td>\n",
       "      <td>5283.016664</td>\n",
       "      <td>-0.504302</td>\n",
       "      <td>0.454517</td>\n",
       "      <td>-1.109535</td>\n",
       "      <td>0.267200</td>\n",
       "      <td>0.998939</td>\n",
       "      <td>DPM1</td>\n",
       "      <td>0.001062</td>\n",
       "    </tr>\n",
       "    <tr>\n",
       "      <th>3</th>\n",
       "      <td>SCYL3 (ENSG00000000457)</td>\n",
       "      <td>995.691129</td>\n",
       "      <td>0.381470</td>\n",
       "      <td>0.443836</td>\n",
       "      <td>0.859484</td>\n",
       "      <td>0.390073</td>\n",
       "      <td>0.998939</td>\n",
       "      <td>SCYL3</td>\n",
       "      <td>0.001062</td>\n",
       "    </tr>\n",
       "    <tr>\n",
       "      <th>4</th>\n",
       "      <td>C1orf112 (ENSG00000000460)</td>\n",
       "      <td>1062.925984</td>\n",
       "      <td>-0.681883</td>\n",
       "      <td>0.392673</td>\n",
       "      <td>-1.736517</td>\n",
       "      <td>0.082473</td>\n",
       "      <td>0.954629</td>\n",
       "      <td>C1orf112</td>\n",
       "      <td>0.046433</td>\n",
       "    </tr>\n",
       "    <tr>\n",
       "      <th>...</th>\n",
       "      <td>...</td>\n",
       "      <td>...</td>\n",
       "      <td>...</td>\n",
       "      <td>...</td>\n",
       "      <td>...</td>\n",
       "      <td>...</td>\n",
       "      <td>...</td>\n",
       "      <td>...</td>\n",
       "      <td>...</td>\n",
       "    </tr>\n",
       "    <tr>\n",
       "      <th>16378</th>\n",
       "      <td>SLIT1 (ENSG00000187122)</td>\n",
       "      <td>121.202456</td>\n",
       "      <td>3.147363</td>\n",
       "      <td>1.245996</td>\n",
       "      <td>2.525981</td>\n",
       "      <td>0.011538</td>\n",
       "      <td>0.634927</td>\n",
       "      <td>SLIT1</td>\n",
       "      <td>0.454245</td>\n",
       "    </tr>\n",
       "    <tr>\n",
       "      <th>16379</th>\n",
       "      <td>LYPD6 (ENSG00000187123)</td>\n",
       "      <td>665.839431</td>\n",
       "      <td>-2.811492</td>\n",
       "      <td>1.276767</td>\n",
       "      <td>-2.202040</td>\n",
       "      <td>0.027662</td>\n",
       "      <td>0.783846</td>\n",
       "      <td>LYPD6</td>\n",
       "      <td>0.243543</td>\n",
       "    </tr>\n",
       "    <tr>\n",
       "      <th>16380</th>\n",
       "      <td>AKR1C1 (ENSG00000187134)</td>\n",
       "      <td>844.054171</td>\n",
       "      <td>-0.786269</td>\n",
       "      <td>1.265558</td>\n",
       "      <td>-0.621283</td>\n",
       "      <td>0.534414</td>\n",
       "      <td>0.998939</td>\n",
       "      <td>AKR1C1</td>\n",
       "      <td>0.001062</td>\n",
       "    </tr>\n",
       "    <tr>\n",
       "      <th>16381</th>\n",
       "      <td>VSTM2B (ENSG00000187135)</td>\n",
       "      <td>0.448278</td>\n",
       "      <td>-1.128282</td>\n",
       "      <td>5.850018</td>\n",
       "      <td>-0.192868</td>\n",
       "      <td>0.847062</td>\n",
       "      <td>0.998939</td>\n",
       "      <td>VSTM2B</td>\n",
       "      <td>0.001062</td>\n",
       "    </tr>\n",
       "    <tr>\n",
       "      <th>16382</th>\n",
       "      <td>FOXD3 (ENSG00000187140)</td>\n",
       "      <td>2.610609</td>\n",
       "      <td>2.734193</td>\n",
       "      <td>1.711356</td>\n",
       "      <td>1.597676</td>\n",
       "      <td>0.110115</td>\n",
       "      <td>0.981619</td>\n",
       "      <td>FOXD3</td>\n",
       "      <td>0.018552</td>\n",
       "    </tr>\n",
       "  </tbody>\n",
       "</table>\n",
       "<p>16383 rows × 9 columns</p>\n",
       "</div>"
      ],
      "text/plain": [
       "                            index     baseMean  log2FoldChange     lfcSE  \\\n",
       "0        TSPAN6 (ENSG00000000003)  4582.561440       -0.645320  1.054272   \n",
       "1          TNMD (ENSG00000000005)    18.945043       -3.633205  2.631577   \n",
       "2          DPM1 (ENSG00000000419)  5283.016664       -0.504302  0.454517   \n",
       "3         SCYL3 (ENSG00000000457)   995.691129        0.381470  0.443836   \n",
       "4      C1orf112 (ENSG00000000460)  1062.925984       -0.681883  0.392673   \n",
       "...                           ...          ...             ...       ...   \n",
       "16378     SLIT1 (ENSG00000187122)   121.202456        3.147363  1.245996   \n",
       "16379     LYPD6 (ENSG00000187123)   665.839431       -2.811492  1.276767   \n",
       "16380    AKR1C1 (ENSG00000187134)   844.054171       -0.786269  1.265558   \n",
       "16381    VSTM2B (ENSG00000187135)     0.448278       -1.128282  5.850018   \n",
       "16382     FOXD3 (ENSG00000187140)     2.610609        2.734193  1.711356   \n",
       "\n",
       "           stat    pvalue      padj    symbol   nlogFDR  \n",
       "0     -0.612100  0.540472  0.998939    TSPAN6  0.001062  \n",
       "1     -1.380619  0.167396  0.998939      TNMD  0.001062  \n",
       "2     -1.109535  0.267200  0.998939      DPM1  0.001062  \n",
       "3      0.859484  0.390073  0.998939     SCYL3  0.001062  \n",
       "4     -1.736517  0.082473  0.954629  C1orf112  0.046433  \n",
       "...         ...       ...       ...       ...       ...  \n",
       "16378  2.525981  0.011538  0.634927     SLIT1  0.454245  \n",
       "16379 -2.202040  0.027662  0.783846     LYPD6  0.243543  \n",
       "16380 -0.621283  0.534414  0.998939    AKR1C1  0.001062  \n",
       "16381 -0.192868  0.847062  0.998939    VSTM2B  0.001062  \n",
       "16382  1.597676  0.110115  0.981619     FOXD3  0.018552  \n",
       "\n",
       "[16383 rows x 9 columns]"
      ]
     },
     "execution_count": 405,
     "metadata": {},
     "output_type": "execute_result"
    }
   ],
   "source": [
    "res = stat_res.results_df\n",
    "res = res.reset_index()\n",
    "res['symbol'] = res['index'].apply(lambda x: x.split(' ')[0])\n",
    "res['nlogFDR'] = -np.log(res['padj'])\n",
    "res"
   ]
  },
  {
   "cell_type": "code",
   "execution_count": 406,
   "id": "aeb65edc-34a3-4362-b5ae-63a1b8756e6c",
   "metadata": {},
   "outputs": [
    {
     "data": {
      "text/html": [
       "<div>\n",
       "<style scoped>\n",
       "    .dataframe tbody tr th:only-of-type {\n",
       "        vertical-align: middle;\n",
       "    }\n",
       "\n",
       "    .dataframe tbody tr th {\n",
       "        vertical-align: top;\n",
       "    }\n",
       "\n",
       "    .dataframe thead th {\n",
       "        text-align: right;\n",
       "    }\n",
       "</style>\n",
       "<table border=\"1\" class=\"dataframe\">\n",
       "  <thead>\n",
       "    <tr style=\"text-align: right;\">\n",
       "      <th></th>\n",
       "      <th>symbol</th>\n",
       "      <th>stat</th>\n",
       "    </tr>\n",
       "  </thead>\n",
       "  <tbody>\n",
       "    <tr>\n",
       "      <th>1016</th>\n",
       "      <td>ZFY</td>\n",
       "      <td>8.041486</td>\n",
       "    </tr>\n",
       "    <tr>\n",
       "      <th>6176</th>\n",
       "      <td>RPS4Y1</td>\n",
       "      <td>6.157387</td>\n",
       "    </tr>\n",
       "    <tr>\n",
       "      <th>16268</th>\n",
       "      <td>PDE2A</td>\n",
       "      <td>6.046128</td>\n",
       "    </tr>\n",
       "    <tr>\n",
       "      <th>9918</th>\n",
       "      <td>MICU3</td>\n",
       "      <td>5.500757</td>\n",
       "    </tr>\n",
       "    <tr>\n",
       "      <th>7136</th>\n",
       "      <td>AGT</td>\n",
       "      <td>5.436454</td>\n",
       "    </tr>\n",
       "    <tr>\n",
       "      <th>...</th>\n",
       "      <td>...</td>\n",
       "      <td>...</td>\n",
       "    </tr>\n",
       "    <tr>\n",
       "      <th>10547</th>\n",
       "      <td>LY6E</td>\n",
       "      <td>-4.222995</td>\n",
       "    </tr>\n",
       "    <tr>\n",
       "      <th>4196</th>\n",
       "      <td>NUP155</td>\n",
       "      <td>-4.334708</td>\n",
       "    </tr>\n",
       "    <tr>\n",
       "      <th>14204</th>\n",
       "      <td>PHETA2</td>\n",
       "      <td>-4.466766</td>\n",
       "    </tr>\n",
       "    <tr>\n",
       "      <th>11469</th>\n",
       "      <td>OSR2</td>\n",
       "      <td>-4.471415</td>\n",
       "    </tr>\n",
       "    <tr>\n",
       "      <th>1611</th>\n",
       "      <td>ZNF264</td>\n",
       "      <td>-5.838879</td>\n",
       "    </tr>\n",
       "  </tbody>\n",
       "</table>\n",
       "<p>16107 rows × 2 columns</p>\n",
       "</div>"
      ],
      "text/plain": [
       "       symbol      stat\n",
       "1016      ZFY  8.041486\n",
       "6176   RPS4Y1  6.157387\n",
       "16268   PDE2A  6.046128\n",
       "9918    MICU3  5.500757\n",
       "7136      AGT  5.436454\n",
       "...       ...       ...\n",
       "10547    LY6E -4.222995\n",
       "4196   NUP155 -4.334708\n",
       "14204  PHETA2 -4.466766\n",
       "11469    OSR2 -4.471415\n",
       "1611   ZNF264 -5.838879\n",
       "\n",
       "[16107 rows x 2 columns]"
      ]
     },
     "execution_count": 406,
     "metadata": {},
     "output_type": "execute_result"
    }
   ],
   "source": [
    "ranking = res[['symbol', 'stat']].dropna().sort_values('stat', ascending = False)\n",
    "ranking = ranking.drop_duplicates('symbol')\n",
    "ranking"
   ]
  },
  {
   "cell_type": "code",
   "execution_count": 407,
   "id": "045f62de-210c-465c-8ee2-c4b40e9d0b8e",
   "metadata": {},
   "outputs": [],
   "source": [
    "kegg = gp.read_gmt(path = '/Users/connormullins/Downloads/c2.cp.kegg_medicus.v2024.1.Hs.symbols.gmt')\n",
    "pid = gp.read_gmt(path = '/Users/connormullins/Downloads/c2.cp.pid.v2024.1.Hs.symbols.gmt')\n",
    "biocarta = gp.read_gmt(path = '/Users/connormullins/Downloads/c2.cp.biocarta.v2024.1.Hs.symbols (1).gmt')"
   ]
  },
  {
   "cell_type": "code",
   "execution_count": 408,
   "id": "5d82a183-8ec0-4b49-a7f8-6e99906bb9fc",
   "metadata": {},
   "outputs": [
    {
     "name": "stderr",
     "output_type": "stream",
     "text": [
      "2024-12-03 18:18:43,424 [WARNING] Duplicated values found in preranked stats: 2.94% of genes\n",
      "The order of those genes will be arbitrary, which may produce unexpected results.\n"
     ]
    }
   ],
   "source": [
    "pre_res = gp.prerank(rnk = ranking,\n",
    "                     gene_sets = pid,\n",
    "                     seed = 6, permutation_num = 1000)"
   ]
  },
  {
   "cell_type": "code",
   "execution_count": 409,
   "id": "8b396e42-4945-4194-bbdd-00873c81a334",
   "metadata": {},
   "outputs": [],
   "source": [
    "out = []\n",
    "\n",
    "for term in list(pre_res.results):\n",
    "    out.append([term,\n",
    "               pre_res.results[term]['fdr'],\n",
    "               pre_res.results[term]['es'],\n",
    "               pre_res.results[term]['nes']])\n",
    "\n",
    "out_df = pd.DataFrame(out, columns = ['Term','fdr', 'es', 'nes']).sort_values('fdr').reset_index(drop = True)\n",
    "out_df = out_df[out_df['fdr'] < 0.05]\n",
    "out_df['abs nes'] = abs(out_df['nes'])"
   ]
  },
  {
   "cell_type": "code",
   "execution_count": 410,
   "id": "bae27023-184b-4db6-a76c-8e0ddbb313ff",
   "metadata": {},
   "outputs": [
    {
     "data": {
      "image/png": "[encoded data removed]",
      "text/plain": [
       "<Figure size 800x1200 with 1 Axes>"
      ]
     },
     "metadata": {},
     "output_type": "display_data"
    }
   ],
   "source": [
    "plt.figure(figsize=(8, 12))\n",
    "plt.pie(out_df['abs nes'], labels=out_df['Term'], autopct='%1.1f%%', startangle=90)\n",
    "gene_change = gene_change.replace(\"p.\", \"\")\n",
    "plt.title(f'{cancer_type} {protein} {gene_change} Pathway Enrichment Scores')\n",
    "#plt.savefig('/Users/connormullins/Downloads/PAAD_G12R_GSEA.png', dpi =  1200)\n",
    "plt.show()"
   ]
  },
  {
   "cell_type": "code",
   "execution_count": null,
   "id": "f7780720-314b-4aa0-bd25-487dccf39e11",
   "metadata": {},
   "outputs": [],
   "source": []
  }
 ],
 "metadata": {
  "kernelspec": {
   "display_name": "Python 3.12 (tensorflow)",
   "language": "python",
   "name": "tensorflow"
  },
  "language_info": {
   "codemirror_mode": {
    "name": "ipython",
    "version": 3
   },
   "file_extension": ".py",
   "mimetype": "text/x-python",
   "name": "python",
   "nbconvert_exporter": "python",
   "pygments_lexer": "ipython3",
   "version": "3.10.14"
  }
 },
 "nbformat": 4,
 "nbformat_minor": 5
}
